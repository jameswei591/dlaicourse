{
  "nbformat": 4,
  "nbformat_minor": 0,
  "metadata": {
    "colab": {
      "name": "Copy of Exercise 3 - Question.ipynb",
      "version": "0.3.2",
      "provenance": [],
      "collapsed_sections": [],
      "include_colab_link": true
    },
    "kernelspec": {
      "name": "python3",
      "display_name": "Python 3"
    }
  },
  "cells": [
    {
      "cell_type": "markdown",
      "metadata": {
        "id": "view-in-github",
        "colab_type": "text"
      },
      "source": [
        "<a href=\"https://colab.research.google.com/github/jameswei591/dlaicourse/blob/master/HW/Exercise_3_Question.ipynb\" target=\"_parent\"><img src=\"https://colab.research.google.com/assets/colab-badge.svg\" alt=\"Open In Colab\"/></a>"
      ]
    },
    {
      "cell_type": "markdown",
      "metadata": {
        "id": "iQjHqsmTAVLU",
        "colab_type": "text"
      },
      "source": [
        "## Exercise 3\n",
        "In the videos you looked at how you would improve Fashion MNIST using Convolutions. For your exercise see if you can improve MNIST to 99.8% accuracy or more using only a single convolutional layer and a single MaxPooling 2D. You should stop training once the accuracy goes above this amount. It should happen in less than 20 epochs, so it's ok to hard code the number of epochs for training, but your training must end once it hits the above metric. If it doesn't, then you'll need to redesign your layers.\n",
        "\n",
        "I've started the code for you -- you need to finish it!\n",
        "\n",
        "When 99.8% accuracy has been hit, you should print out the string \"Reached 99.8% accuracy so cancelling training!\"\n"
      ]
    },
    {
      "cell_type": "code",
      "metadata": {
        "id": "sfQRyaJWAIdg",
        "colab_type": "code",
        "outputId": "d7857d7d-b27a-4ee3-8fc0-ffc8705540f5",
        "colab": {
          "base_uri": "https://localhost:8080/",
          "height": 398
        }
      },
      "source": [
        "import tensorflow as tf\n",
        "\n",
        "class myCallback(tf.keras.callbacks.Callback):\n",
        "  def on_epoch_end(self, epoch, logs={}):\n",
        "    if logs.get('acc')>0.998:\n",
        "      print('\\n Reached 99.8% accuracy so cancelling training!')\n",
        "      self.model.stop_training = True\n",
        "      \n",
        "callbacks = myCallback()\n",
        "\n",
        "mnist = tf.keras.datasets.mnist\n",
        "(training_images, training_labels), (test_images, test_labels) = mnist.load_data()\n",
        "\n",
        "training_images = training_images.reshape(60000,28,28,1)\n",
        "test_images = test_images.reshape(10000,28,28,1)\n",
        "training_images = training_images/255.0\n",
        "test_images = test_images/255.0\n",
        "\n",
        "model = tf.keras.models.Sequential([tf.keras.layers.Conv2D(64,(3,3), activation = 'relu', input_shape = (28,28,1)),\n",
        "                                    tf.keras.layers.MaxPooling2D(2,2),\n",
        "                                    #tf.keras.layers.Conv2D(64,(3,3),activation = 'relu'),\n",
        "                                    #tf.keras.layers.MaxPooling2D(2,2),\n",
        "                                    tf.keras.layers.Flatten(),\n",
        "                                    tf.keras.layers.Dense(128,activation = 'relu'),\n",
        "                                    tf.keras.layers.Dense(10,activation = 'softmax')\n",
        "  \n",
        "])\n",
        "\n",
        "model.compile(optimizer = 'adam', loss = 'sparse_categorical_crossentropy', metrics=['accuracy'])\n",
        "model.fit(training_images, training_labels, epochs = 20, callbacks = [callbacks])\n",
        "model.evaluate(test_images, test_labels)\n",
        "\n"
      ],
      "execution_count": 0,
      "outputs": [
        {
          "output_type": "stream",
          "text": [
            "Epoch 1/20\n",
            "60000/60000 [==============================] - 61s 1ms/sample - loss: 0.1427 - acc: 0.9571\n",
            "Epoch 2/20\n",
            "60000/60000 [==============================] - 60s 1ms/sample - loss: 0.0492 - acc: 0.9850\n",
            "Epoch 3/20\n",
            "60000/60000 [==============================] - 64s 1ms/sample - loss: 0.0308 - acc: 0.9904\n",
            "Epoch 4/20\n",
            "60000/60000 [==============================] - 61s 1ms/sample - loss: 0.0191 - acc: 0.9940\n",
            "Epoch 5/20\n",
            "60000/60000 [==============================] - 60s 1ms/sample - loss: 0.0140 - acc: 0.9956\n",
            "Epoch 6/20\n",
            "60000/60000 [==============================] - 61s 1ms/sample - loss: 0.0107 - acc: 0.9964\n",
            "Epoch 7/20\n",
            "60000/60000 [==============================] - 62s 1ms/sample - loss: 0.0075 - acc: 0.9975\n",
            "Epoch 8/20\n",
            "60000/60000 [==============================] - 61s 1ms/sample - loss: 0.0065 - acc: 0.9977\n",
            "Epoch 9/20\n",
            "59968/60000 [============================>.] - ETA: 0s - loss: 0.0041 - acc: 0.9987\n",
            " Reached 99.8% accuracy so cancelling training!\n",
            "60000/60000 [==============================] - 61s 1ms/sample - loss: 0.0041 - acc: 0.9987\n",
            "10000/10000 [==============================] - 3s 284us/sample - loss: 0.0521 - acc: 0.9862\n"
          ],
          "name": "stdout"
        },
        {
          "output_type": "execute_result",
          "data": {
            "text/plain": [
              "[0.05214610080813254, 0.9862]"
            ]
          },
          "metadata": {
            "tags": []
          },
          "execution_count": 4
        }
      ]
    },
    {
      "cell_type": "code",
      "metadata": {
        "id": "2xbw8ffYc2KE",
        "colab_type": "code",
        "outputId": "321ed344-14a3-478d-9126-2e17aba03612",
        "colab": {
          "base_uri": "https://localhost:8080/",
          "height": 329
        }
      },
      "source": [
        "model.summary()"
      ],
      "execution_count": 0,
      "outputs": [
        {
          "output_type": "stream",
          "text": [
            "Model: \"sequential_3\"\n",
            "_________________________________________________________________\n",
            "Layer (type)                 Output Shape              Param #   \n",
            "=================================================================\n",
            "conv2d_6 (Conv2D)            (None, 26, 26, 64)        640       \n",
            "_________________________________________________________________\n",
            "max_pooling2d_6 (MaxPooling2 (None, 13, 13, 64)        0         \n",
            "_________________________________________________________________\n",
            "flatten_3 (Flatten)          (None, 10816)             0         \n",
            "_________________________________________________________________\n",
            "dense_6 (Dense)              (None, 128)               1384576   \n",
            "_________________________________________________________________\n",
            "dense_7 (Dense)              (None, 10)                1290      \n",
            "=================================================================\n",
            "Total params: 1,386,506\n",
            "Trainable params: 1,386,506\n",
            "Non-trainable params: 0\n",
            "_________________________________________________________________\n"
          ],
          "name": "stdout"
        }
      ]
    }
  ]
}