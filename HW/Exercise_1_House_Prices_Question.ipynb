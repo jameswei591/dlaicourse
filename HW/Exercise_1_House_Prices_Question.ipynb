{
  "nbformat": 4,
  "nbformat_minor": 0,
  "metadata": {
    "colab": {
      "name": "Exercise 1 - House Prices - Question.ipynb",
      "version": "0.3.2",
      "provenance": [],
      "include_colab_link": true
    },
    "kernelspec": {
      "name": "python3",
      "display_name": "Python 3"
    }
  },
  "cells": [
    {
      "cell_type": "markdown",
      "metadata": {
        "id": "view-in-github",
        "colab_type": "text"
      },
      "source": [
        "<a href=\"https://colab.research.google.com/github/jameswei591/dlaicourse/blob/master/HW/Exercise_1_House_Prices_Question.ipynb\" target=\"_parent\"><img src=\"https://colab.research.google.com/assets/colab-badge.svg\" alt=\"Open In Colab\"/></a>"
      ]
    },
    {
      "cell_type": "markdown",
      "metadata": {
        "id": "mw2VBrBcgvGa",
        "colab_type": "text"
      },
      "source": [
        "In this exercise you'll try to build a neural network that predicts the price of a house according to a simple formula.\n",
        "\n",
        "So, imagine if house pricing was as easy as a house costs 50k + 50k per bedroom, so that a 1 bedroom house costs 100k, a 2 bedroom house costs 150k etc.\n",
        "\n",
        "How would you create a neural network that learns this relationship so that it would predict a 7 bedroom house as costing close to 400k etc.\n",
        "\n",
        "Hint: Your network might work better if you scale the house price down. You don't have to give the answer 400...it might be better to create something that predicts the number 4, and then your answer is in the 'hundreds of thousands' etc."
      ]
    },
    {
      "cell_type": "code",
      "metadata": {
        "id": "xUFV4Q09OPmS",
        "colab_type": "code",
        "outputId": "cf4c7d09-165b-4267-ea4c-bd8f8837e96c",
        "colab": {
          "base_uri": "https://localhost:8080/",
          "height": 51
        }
      },
      "source": [
        "import tensorflow as tf\n",
        "import numpy as np\n",
        "import pandas as pd\n",
        "from tensorflow import keras\n",
        "\n",
        "## build a model\n",
        "# model = tf.keras.Sequential([keras.layers.Dense(1,input_shape=[1])])\n",
        "model = tf.keras.Sequential()\n",
        "model.add(keras.layers.Dense(1,input_shape=[1]))\n",
        "model.compile(optimizer = tf.train.AdamOptimizer(0.05), loss = 'mse')\n",
        "\n",
        "## input data\n",
        "xs = np.array([1.0,2.0,3.0,4.0,5.0,6.0],dtype=float)\n",
        "ys = np.array([1.0,1.5,2.0,2.5,3.0,3.5],dtype=float)\n",
        "\n",
        "## fit model\n",
        "model.fit(xs,ys, epochs=500, verbose=0)\n",
        "print(model.predict([7.0,9.0]))"
      ],
      "execution_count": 0,
      "outputs": [
        {
          "output_type": "stream",
          "text": [
            "[[3.9965281]\n",
            " [4.9940968]]\n"
          ],
          "name": "stdout"
        }
      ]
    },
    {
      "cell_type": "code",
      "metadata": {
        "id": "PUNO2E6SeURH",
        "colab_type": "code",
        "colab": {}
      },
      "source": [
        "import tensorflow as tf\n",
        "import numpy as np\n",
        "from tensorflow import keras\n",
        "model = # Your Code Here#\n",
        "model.compile(# Your Code Here#)\n",
        "xs = # Your Code Here#\n",
        "ys = # Your Code Here#\n",
        "model.fit(# Your Code here#)\n",
        "print(model.predict([7.0]))"
      ],
      "execution_count": 0,
      "outputs": []
    }
  ]
}